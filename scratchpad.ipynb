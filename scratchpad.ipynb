{
 "cells": [
  {
   "cell_type": "code",
   "execution_count": null,
   "metadata": {},
   "outputs": [],
   "source": [
    "%load_ext autoreload\n",
    "%autoreload 2\n",
    "\n",
    "import sys\n",
    "sys.path.append('..')"
   ]
  },
  {
   "cell_type": "code",
   "execution_count": null,
   "metadata": {},
   "outputs": [],
   "source": [
    "from aoc_leaderboard.leaderboard import read_and_parse_json\n",
    "import pandas as pd\n",
    "file_path = \"<download from aoc>.json\"\n",
    "data = read_and_parse_json(file_path)\n",
    "members = list(data.members.values())\n",
    "df = pd.DataFrame([m.datarow for m in members])\n",
    "display(df)\n"
   ]
  },
  {
   "cell_type": "code",
   "execution_count": null,
   "metadata": {},
   "outputs": [],
   "source": [
    "from functools import reduce\n",
    "members[0].completion_day_level\n",
    "reduce(lambda x,y: max(x, len(y.completion_day_level)), members, 0)"
   ]
  },
  {
   "cell_type": "code",
   "execution_count": null,
   "metadata": {},
   "outputs": [],
   "source": [
    "import matplotlib.pyplot as plt\n",
    "\n",
    "# Sorting the data by stars in descending order\n",
    "sorted_data = df.sort_values(by=\"stars\", ascending=False)\n",
    "\n",
    "# # Taking top 10 entries for the sake of visualization (similar to the provided image)\n",
    "# top_data = sorted_data.head(10)\n",
    "\n",
    "# Plotting the data\n",
    "fig, ax = plt.subplots(figsize=(10, 6))\n",
    "ax.barh(sorted_data['name'], sorted_data['stars'], color='green')\n",
    "ax.set_xlabel('Number of stars won')\n",
    "ax.set_ylabel('Name')\n",
    "ax.set_title('Number of stars won per member')\n",
    "ax.grid(axis='x')\n",
    "\n",
    "# Display the plot\n",
    "plt.gca().invert_yaxis()  # To have the user with the highest stars at the top\n",
    "plt.show()"
   ]
  }
 ],
 "metadata": {
  "kernelspec": {
   "display_name": ".venv",
   "language": "python",
   "name": "python3"
  },
  "language_info": {
   "codemirror_mode": {
    "name": "ipython",
    "version": 3
   },
   "file_extension": ".py",
   "mimetype": "text/x-python",
   "name": "python",
   "nbconvert_exporter": "python",
   "pygments_lexer": "ipython3",
   "version": "3.10.12"
  }
 },
 "nbformat": 4,
 "nbformat_minor": 2
}
